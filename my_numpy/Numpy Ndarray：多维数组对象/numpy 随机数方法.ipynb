{
 "cells": [
  {
   "cell_type": "markdown",
   "metadata": {},
   "source": [
    "# Numpy 常用随机数方法"
   ]
  },
  {
   "cell_type": "markdown",
   "metadata": {},
   "source": [
    "在python数据分析的学习和应用过程中，经常需要用到numpy的随机函数，由于随机函数random的功能比较多，经常会混淆或记不住，下面我们一起来汇总学习下。"
   ]
  },
  {
   "cell_type": "code",
   "execution_count": 2,
   "metadata": {},
   "outputs": [],
   "source": [
    "import numpy as np"
   ]
  },
  {
   "cell_type": "markdown",
   "metadata": {},
   "source": [
    "## numpy.random.rand()"
   ]
  },
  {
   "cell_type": "markdown",
   "metadata": {},
   "source": [
    "numpy.random.rand(d0,d1,…,dn)\n",
    "\n",
    "* randn 函数根据给定的维度生成[0, 1]之间的数据，包含0，不包含1\n",
    "* dn 表示维度\n",
    "* 返回值为指定维度的 array"
   ]
  },
  {
   "cell_type": "code",
   "execution_count": 3,
   "metadata": {},
   "outputs": [
    {
     "data": {
      "text/plain": [
       "array([[0.53380414, 0.50633967, 0.15955296],\n",
       "       [0.46639907, 0.69202414, 0.1466259 ]])"
      ]
     },
     "execution_count": 3,
     "metadata": {},
     "output_type": "execute_result"
    }
   ],
   "source": [
    "np.random.rand(2, 3) # 指定维度为 2行3列"
   ]
  },
  {
   "cell_type": "markdown",
   "metadata": {},
   "source": [
    "## numpy.random.randn()"
   ]
  },
  {
   "cell_type": "markdown",
   "metadata": {},
   "source": [
    "numpy.random.randn(d0,d1,…,dn)\n",
    "\n",
    "* 返回一个或者一组样本，具有标准正态分布\n",
    "* dn 表示维度\n",
    "* 返回值为指定维度的 array"
   ]
  },
  {
   "cell_type": "code",
   "execution_count": 4,
   "metadata": {},
   "outputs": [
    {
     "data": {
      "text/plain": [
       "0.771353810273211"
      ]
     },
     "execution_count": 4,
     "metadata": {},
     "output_type": "execute_result"
    }
   ],
   "source": [
    "np.random.randn() # 当没有参数时，返回单个数据"
   ]
  },
  {
   "cell_type": "code",
   "execution_count": 5,
   "metadata": {},
   "outputs": [
    {
     "data": {
      "text/plain": [
       "array([[-1.54342109,  0.84529908, -0.37979896,  1.87400124],\n",
       "       [ 0.13278796,  0.42778185, -1.60400427, -0.39082434]])"
      ]
     },
     "execution_count": 5,
     "metadata": {},
     "output_type": "execute_result"
    }
   ],
   "source": [
    "np.random.randn(2,4)"
   ]
  },
  {
   "cell_type": "code",
   "execution_count": 6,
   "metadata": {},
   "outputs": [
    {
     "data": {
      "text/plain": [
       "array([[[-0.32673219, -0.74658277],\n",
       "        [ 0.58282033, -0.7135313 ],\n",
       "        [ 0.9743897 ,  0.41999398]],\n",
       "\n",
       "       [[-0.84906191,  0.86692579],\n",
       "        [ 1.55709009,  2.07073826],\n",
       "        [-1.29139565, -0.81340372]],\n",
       "\n",
       "       [[ 0.04850362,  0.03873075],\n",
       "        [ 0.09877068,  1.72813399],\n",
       "        [-0.44916004, -0.81887483]],\n",
       "\n",
       "       [[ 0.849136  ,  2.00678484],\n",
       "        [-0.3550484 , -0.06840407],\n",
       "        [ 1.85158055, -0.78324139]]])"
      ]
     },
     "execution_count": 6,
     "metadata": {},
     "output_type": "execute_result"
    }
   ],
   "source": [
    "np.random.randn(4,3,2)"
   ]
  },
  {
   "cell_type": "markdown",
   "metadata": {},
   "source": [
    "标准正态分布介绍：\n",
    "1. 标准正态分布—-standard normal distribution\n",
    "2. 标准正态分布又称为u分布，是以0为均值、以1为标准差的正态分布，记为N（0，1）。"
   ]
  },
  {
   "cell_type": "markdown",
   "metadata": {},
   "source": [
    "## numpy.random.randint()"
   ]
  },
  {
   "cell_type": "markdown",
   "metadata": {},
   "source": [
    "numpy.random.randint(low, high=None, size=None, dtype=’l)\n",
    "\n",
    "* 返回随机整数，范围区间为low-high，包含low，不包含high\n",
    "* 最小值为low，最大值为high，size 为数组维度，dtype 为数据类型，默认的数据类型是np.int\n",
    "* high 没有填写时，范围默认为 [0, low]\n"
   ]
  },
  {
   "cell_type": "code",
   "execution_count": 7,
   "metadata": {},
   "outputs": [
    {
     "data": {
      "text/plain": [
       "array([0, 0, 0, 0, 0])"
      ]
     },
     "execution_count": 7,
     "metadata": {},
     "output_type": "execute_result"
    }
   ],
   "source": [
    "np.random.randint(1,size=5) # 返回[0,1)之间的整数，所以只有0"
   ]
  },
  {
   "cell_type": "code",
   "execution_count": 8,
   "metadata": {},
   "outputs": [
    {
     "data": {
      "text/plain": [
       "1"
      ]
     },
     "execution_count": 8,
     "metadata": {},
     "output_type": "execute_result"
    }
   ],
   "source": [
    "np.random.randint(1,5) # 返回1个[1,5)时间的随机整数"
   ]
  },
  {
   "cell_type": "code",
   "execution_count": 9,
   "metadata": {},
   "outputs": [
    {
     "data": {
      "text/plain": [
       "array([[ 2,  4],\n",
       "       [-2,  1]])"
      ]
     },
     "execution_count": 9,
     "metadata": {},
     "output_type": "execute_result"
    }
   ],
   "source": [
    "np.random.randint(-5,5,size=(2,2))"
   ]
  },
  {
   "cell_type": "markdown",
   "metadata": {},
   "source": [
    "## 生成[0,1)之间的浮点数"
   ]
  },
  {
   "cell_type": "markdown",
   "metadata": {},
   "source": [
    "* numpy.random.random_sample(size=None)\n",
    "* numpy.random.random(size=None)\n",
    "* numpy.random.ranf(size=None)\n",
    "* numpy.random.sample(size=None)"
   ]
  },
  {
   "cell_type": "code",
   "execution_count": 10,
   "metadata": {},
   "outputs": [
    {
     "name": "stdout",
     "output_type": "stream",
     "text": [
      "-----------random_sample--------------\n",
      "[[0.84209133 0.71201054]\n",
      " [0.55310936 0.01834124]]\n",
      "-----------random--------------\n",
      "[[0.97952937 0.68329834]\n",
      " [0.05406889 0.60493494]]\n",
      "-----------ranf--------------\n",
      "[[0.9074233  0.48377082]\n",
      " [0.55132857 0.09061453]]\n",
      "-----------sample--------------\n",
      "[[0.42614357 0.39320096]\n",
      " [0.61476197 0.09163446]]\n"
     ]
    }
   ],
   "source": [
    "print('-----------random_sample--------------')\n",
    "print(np.random.random_sample(size=(2,2)))\n",
    "print('-----------random--------------')\n",
    "print(np.random.random(size=(2,2)))\n",
    "print('-----------ranf--------------')\n",
    "print(np.random.ranf(size=(2,2)))\n",
    "print('-----------sample--------------')\n",
    "print(np.random.sample(size=(2,2)))"
   ]
  },
  {
   "cell_type": "markdown",
   "metadata": {},
   "source": [
    "## numpy.random.choice()"
   ]
  },
  {
   "cell_type": "markdown",
   "metadata": {},
   "source": [
    "numpy.random.choice(a, size=None, replace=True, p=None)\n",
    "\n",
    "* 从给定的一维数组中生成随机数\n",
    "* 参数： a为一维数组类似数据或整数；size为数组维度；p为数组中的数据出现的概率\n",
    "* a为整数时，对应的一维数组为np.arange(a)"
   ]
  },
  {
   "cell_type": "code",
   "execution_count": 11,
   "metadata": {},
   "outputs": [
    {
     "data": {
      "text/plain": [
       "array([3, 3, 0])"
      ]
     },
     "execution_count": 11,
     "metadata": {},
     "output_type": "execute_result"
    }
   ],
   "source": [
    "np.random.choice(5,3)"
   ]
  },
  {
   "cell_type": "code",
   "execution_count": null,
   "metadata": {},
   "outputs": [],
   "source": []
  }
 ],
 "metadata": {
  "kernelspec": {
   "display_name": "Python 3",
   "language": "python",
   "name": "python3"
  },
  "language_info": {
   "codemirror_mode": {
    "name": "ipython",
    "version": 3
   },
   "file_extension": ".py",
   "mimetype": "text/x-python",
   "name": "python",
   "nbconvert_exporter": "python",
   "pygments_lexer": "ipython3",
   "version": "3.6.8"
  }
 },
 "nbformat": 4,
 "nbformat_minor": 2
}
